{
 "cells": [
  {
   "cell_type": "code",
   "execution_count": 1,
   "id": "c4ff3008",
   "metadata": {},
   "outputs": [],
   "source": [
    "def func(file, t):\n",
    "    lens = []\n",
    "    fl = False\n",
    "    l = 0\n",
    "    suml = 0\n",
    "    maxl = 0\n",
    "    maxseq = ''\n",
    "    curseq = ''\n",
    "    for line in file:\n",
    "        if line[0] == '>':\n",
    "            if fl:\n",
    "                lens.append(l)\n",
    "            fl = True\n",
    "            if l >= maxl:\n",
    "                maxl = l\n",
    "                maxseq = curseq\n",
    "            l = 0\n",
    "            curseq = ''\n",
    "        else:\n",
    "            curseq += line.strip()\n",
    "            l += len(line.strip())\n",
    "            suml += len(line.strip())\n",
    "    lens.sort()\n",
    "    lens.reverse()\n",
    "    summ = 0\n",
    "    for l in lens:\n",
    "        summ += l\n",
    "        if summ >= suml / 2:\n",
    "            if t:\n",
    "                print('Общее количество:', len(lens) + 1)\n",
    "                print('Общая длина:', suml)\n",
    "                print('Длина самого длинного:', maxl)\n",
    "                print('N50::', l)\n",
    "                break\n",
    "    return maxseq\n"
   ]
  },
  {
   "cell_type": "code",
   "execution_count": 2,
   "id": "f640c6fb",
   "metadata": {},
   "outputs": [
    {
     "name": "stdout",
     "output_type": "stream",
     "text": [
      "анализ контигов\n",
      "Общее количество: 610\n",
      "Общая длина: 3925289\n",
      "Длина самого длинного: 179255\n",
      "N50:: 52799\n"
     ]
    }
   ],
   "source": [
    "print('анализ контигов')\n",
    "ct = func(open('../data/Poil_contig.fa', 'r'), True)"
   ]
  },
  {
   "cell_type": "code",
   "execution_count": 3,
   "id": "55b6c90a",
   "metadata": {},
   "outputs": [
    {
     "name": "stdout",
     "output_type": "stream",
     "text": [
      "анализ скаффолдов\n",
      "Общее количество: 71\n",
      "Общая длина: 3873962\n",
      "Длина самого длинного: 3839339\n",
      "N50:: 3839339\n"
     ]
    }
   ],
   "source": [
    "print('анализ скаффолдов')\n",
    "max_sc = func(open('../data/Poil_scaffold.fa', 'r'), True)"
   ]
  },
  {
   "cell_type": "code",
   "execution_count": 4,
   "id": "1f8e61b9",
   "metadata": {},
   "outputs": [
    {
     "name": "stdout",
     "output_type": "stream",
     "text": [
      "число гэпов: 64\n",
      "длина гэпов: 6146\n"
     ]
    }
   ],
   "source": [
    "import re\n",
    "print('число гэпов:', re.sub(r'N{2,}', 'N', max_sc).count('N'))\n",
    "print('длина гэпов:', max_sc.count('N'))"
   ]
  },
  {
   "cell_type": "code",
   "execution_count": 5,
   "id": "a6e7694a",
   "metadata": {},
   "outputs": [],
   "source": [
    "max_sc = func(open('../data/Poil_gapClosed.fa', 'r'), False)"
   ]
  },
  {
   "cell_type": "code",
   "execution_count": 6,
   "id": "99bb4656",
   "metadata": {},
   "outputs": [
    {
     "name": "stdout",
     "output_type": "stream",
     "text": [
      "после уменьшения колва гэпов\n",
      "число гэпов: 5\n",
      "длина гэпов: 1077\n"
     ]
    }
   ],
   "source": [
    "print('после уменьшения колва гэпов')\n",
    "print('число гэпов:', re.sub(r'N{2,}', 'N', max_sc).count('N'))\n",
    "print('длина гэпов:', max_sc.count('N'))"
   ]
  },
  {
   "cell_type": "code",
   "execution_count": null,
   "id": "e586873d",
   "metadata": {},
   "outputs": [],
   "source": []
  }
 ],
 "metadata": {
  "kernelspec": {
   "display_name": "Python 3 (ipykernel)",
   "language": "python",
   "name": "python3"
  },
  "language_info": {
   "codemirror_mode": {
    "name": "ipython",
    "version": 3
   },
   "file_extension": ".py",
   "mimetype": "text/x-python",
   "name": "python",
   "nbconvert_exporter": "python",
   "pygments_lexer": "ipython3",
   "version": "3.9.12"
  }
 },
 "nbformat": 4,
 "nbformat_minor": 5
}
